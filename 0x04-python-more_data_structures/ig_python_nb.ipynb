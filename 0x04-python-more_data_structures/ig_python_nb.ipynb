{
 "cells": [
  {
   "cell_type": "code",
   "execution_count": 3,
   "metadata": {},
   "outputs": [],
   "source": [
    "\"\"\" 101 - Square matrix \"\"\"\n",
    "\n",
    "def square_matrix_map(matrix=[]):\n",
    "    return (list(map(lambda x: list(map(lambda y: y**2, x)), matrix)))\n",
    "\n",
    "#----------------------------------------------------------------------------#\n",
    "\n",
    "def complex_delete(a_dictionary, value):\n",
    "    list_keys = list(a_dictionary.keys())\n",
    "\n",
    "    for value_dic in list_keys:\n",
    "        if value == a_dictionary.get(value_dic):\n",
    "            del a_dictionary[value_dic]\n",
    "\n",
    "    return (a_dictionary)"
   ]
  },
  {
   "cell_type": "code",
   "execution_count": null,
   "metadata": {},
   "outputs": [],
   "source": []
  }
 ],
 "metadata": {
  "kernelspec": {
   "display_name": "Python 3",
   "language": "python",
   "name": "python3"
  },
  "language_info": {
   "codemirror_mode": {
    "name": "ipython",
    "version": 3
   },
   "file_extension": ".py",
   "mimetype": "text/x-python",
   "name": "python",
   "nbconvert_exporter": "python",
   "pygments_lexer": "ipython3",
   "version": "3.10.7"
  },
  "orig_nbformat": 4,
  "vscode": {
   "interpreter": {
    "hash": "4517f65f450b0d20a521ca5b306f7f3feef77e94f7def60b482b88f2033b2b63"
   }
  }
 },
 "nbformat": 4,
 "nbformat_minor": 2
}
