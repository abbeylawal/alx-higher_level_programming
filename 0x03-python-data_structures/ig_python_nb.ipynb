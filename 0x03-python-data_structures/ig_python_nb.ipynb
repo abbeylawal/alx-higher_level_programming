{
 "cells": [
  {
   "cell_type": "code",
   "execution_count": 6,
   "metadata": {},
   "outputs": [],
   "source": [
    "def print_list_integer(my_list=[]):\n",
    "    \"\"\" Prints all integer of a list \"\"\"\n",
    "    for i in range(len(my_list)):\n",
    "        print(\"{:d}\".format(my_list[i]))"
   ]
  },
  {
   "cell_type": "code",
   "execution_count": 10,
   "metadata": {},
   "outputs": [
    {
     "name": "stdout",
     "output_type": "stream",
     "text": [
      "1\n"
     ]
    },
    {
     "ename": "ValueError",
     "evalue": "Unknown format code 'd' for object of type 'float'",
     "output_type": "error",
     "traceback": [
      "\u001b[1;31m---------------------------------------------------------------------------\u001b[0m",
      "\u001b[1;31mValueError\u001b[0m                                Traceback (most recent call last)",
      "\u001b[1;32mc:\\Users\\PD-GIS\\Documents\\ABBEY DOCS\\OneDrive\\Documents\\AB-Programming repos\\Jupyter Notebook\\ALX Software Engineering Programming\\alx-higher_level_programming\\0x03-python-data_structures\\ig_python_nb.ipynb Cell 2\u001b[0m in \u001b[0;36m<cell line: 1>\u001b[1;34m()\u001b[0m\n\u001b[1;32m----> <a href='vscode-notebook-cell:/c%3A/Users/PD-GIS/Documents/ABBEY%20DOCS/OneDrive/Documents/AB-Programming%20repos/Jupyter%20Notebook/ALX%20Software%20Engineering%20Programming/alx-higher_level_programming/0x03-python-data_structures/ig_python_nb.ipynb#W1sZmlsZQ%3D%3D?line=0'>1</a>\u001b[0m print_list_integer([\u001b[39m1\u001b[39;49m, \u001b[39m0.3\u001b[39;49m, \u001b[39m12\u001b[39;49m, \u001b[39m1\u001b[39;49m, \u001b[39m12\u001b[39;49m])\n",
      "\u001b[1;32mc:\\Users\\PD-GIS\\Documents\\ABBEY DOCS\\OneDrive\\Documents\\AB-Programming repos\\Jupyter Notebook\\ALX Software Engineering Programming\\alx-higher_level_programming\\0x03-python-data_structures\\ig_python_nb.ipynb Cell 2\u001b[0m in \u001b[0;36mprint_list_integer\u001b[1;34m(my_list)\u001b[0m\n\u001b[0;32m      <a href='vscode-notebook-cell:/c%3A/Users/PD-GIS/Documents/ABBEY%20DOCS/OneDrive/Documents/AB-Programming%20repos/Jupyter%20Notebook/ALX%20Software%20Engineering%20Programming/alx-higher_level_programming/0x03-python-data_structures/ig_python_nb.ipynb#W1sZmlsZQ%3D%3D?line=1'>2</a>\u001b[0m \u001b[39m\"\"\" Prints all integer of a list \"\"\"\u001b[39;00m\n\u001b[0;32m      <a href='vscode-notebook-cell:/c%3A/Users/PD-GIS/Documents/ABBEY%20DOCS/OneDrive/Documents/AB-Programming%20repos/Jupyter%20Notebook/ALX%20Software%20Engineering%20Programming/alx-higher_level_programming/0x03-python-data_structures/ig_python_nb.ipynb#W1sZmlsZQ%3D%3D?line=2'>3</a>\u001b[0m \u001b[39mfor\u001b[39;00m i \u001b[39min\u001b[39;00m \u001b[39mrange\u001b[39m(\u001b[39mlen\u001b[39m(my_list)):\n\u001b[1;32m----> <a href='vscode-notebook-cell:/c%3A/Users/PD-GIS/Documents/ABBEY%20DOCS/OneDrive/Documents/AB-Programming%20repos/Jupyter%20Notebook/ALX%20Software%20Engineering%20Programming/alx-higher_level_programming/0x03-python-data_structures/ig_python_nb.ipynb#W1sZmlsZQ%3D%3D?line=3'>4</a>\u001b[0m     \u001b[39mprint\u001b[39m(\u001b[39m\"\u001b[39;49m\u001b[39m{:d}\u001b[39;49;00m\u001b[39m\"\u001b[39;49m\u001b[39m.\u001b[39;49mformat(my_list[i]))\n",
      "\u001b[1;31mValueError\u001b[0m: Unknown format code 'd' for object of type 'float'"
     ]
    }
   ],
   "source": []
  },
  {
   "cell_type": "code",
   "execution_count": null,
   "metadata": {},
   "outputs": [],
   "source": []
  }
 ],
 "metadata": {
  "kernelspec": {
   "display_name": "Python 3",
   "language": "python",
   "name": "python3"
  },
  "language_info": {
   "codemirror_mode": {
    "name": "ipython",
    "version": 3
   },
   "file_extension": ".py",
   "mimetype": "text/x-python",
   "name": "python",
   "nbconvert_exporter": "python",
   "pygments_lexer": "ipython3",
   "version": "3.10.7"
  },
  "orig_nbformat": 4,
  "vscode": {
   "interpreter": {
    "hash": "4517f65f450b0d20a521ca5b306f7f3feef77e94f7def60b482b88f2033b2b63"
   }
  }
 },
 "nbformat": 4,
 "nbformat_minor": 2
}
